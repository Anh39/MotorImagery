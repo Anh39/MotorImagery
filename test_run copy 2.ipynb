{
 "cells": [
  {
   "cell_type": "code",
   "execution_count": 1,
   "metadata": {},
   "outputs": [],
   "source": [
    "import matplotlib.pyplot as plt\n",
    "import numpy as np\n",
    "from torch import nn\n",
    "from sklearn.model_selection import train_test_split\n",
    "from sklearn.metrics import accuracy_score\n",
    "from mne.decoding import CSP\n",
    "from wave_dataloader import MotorImageryDataset, EVENT_TYPES, Util\n",
    "import torch\n",
    "import torch.utils\n",
    "import torch.utils.data\n",
    "from torch.utils.data import DataLoader\n",
    "import tqdm\n",
    "from torchmetrics.classification import MulticlassPrecision, MulticlassRecall, MulticlassF1Score\n"
   ]
  },
  {
   "cell_type": "code",
   "execution_count": 2,
   "metadata": {},
   "outputs": [],
   "source": [
    "EVENT_TYPES = {\n",
    "    \"0x0114\" : (\"Idling EEG (eyes open)\",276),\n",
    "    \"0x0115\" : (\"Idling EEG (eyes closed)\",277),\n",
    "    \"0x0300\" : (\"Start of a trial\",768),\n",
    "    \"0x0301\" : (\"Cue onset left (class 1)\",769),\n",
    "    \"0x0302\" : (\"Cue onset right (class 2)\",770),\n",
    "    \"0x0303\" : (\"Cue onset foot (class 3)\",771),\n",
    "    \"0x0304\" : (\" Cue onset tongue (class 4)\",772),\n",
    "    \"0x030d\" : (\"BCI feedback (continuous)\",781),\n",
    "    \"0x030f\" : (\"Cue unknown\",783),\n",
    "    \"0x03ff\" : (\"Rejected trial\",1023),\n",
    "    \"0x0430\" : (\"Eye movements\",1072),\n",
    "    \"0x0435\" : (\"Horizontal eye movement\",1077),\n",
    "    \"0x0436\" : (\"Vertical eye movement\",1078),\n",
    "    \"0x0437\" : (\"Eye rotation\",1079),\n",
    "    \"0x0439\" : (\"Eye blinks\",1081),\n",
    "    \"0x7ffe\" : (\"Start of a new run\",32766)\n",
    "}\n",
    "device = 'cuda'\n",
    "SELECT_FEATURES = {\n",
    "    # \"0x0430\" : 0,\n",
    "    # \"0x0435\" : 0,\n",
    "    # \"0x0436\" : 0,\n",
    "    # \"0x0437\" : 0,\n",
    "    # \"0x0439\" : 0,\n",
    "    # \"0x030d\" : 0,\n",
    "    \"0x0301\" : 0,\n",
    "    \"0x0302\" : 1,\n",
    "    \"0x0303\" : 2,\n",
    "    \"0x0304\" : 3,\n",
    "}\n",
    "BATCH_SIZE = 16\n",
    "SIGNAL_LENGTH = 1000\n",
    "SAMPLE_RATE = 250\n",
    "OUTPUT_SIZE = len(SELECT_FEATURES)"
   ]
  },
  {
   "cell_type": "code",
   "execution_count": 3,
   "metadata": {},
   "outputs": [],
   "source": [
    "# trainloader, testloader, (total_length, total_count) = Util.get_data_loader(SELECT_FEATURES, \"BCICIV_2a_gdf\", n_workers=0, bsz=BATCH_SIZE,shuffle=True, item_length=SIGNAL_LENGTH)\n",
    "# print(\"Train batchs: \",len(trainloader))\n",
    "# print(\"Test batchs: \",len(testloader))\n",
    "# print(total_length, total_count , f\"{total_length/total_count:.4f}\")"
   ]
  },
  {
   "cell_type": "code",
   "execution_count": 4,
   "metadata": {},
   "outputs": [],
   "source": [
    "# input_sample: torch.Tensor\n",
    "# label_sample: torch.Tensor\n",
    "# skip = 1\n",
    "# for inputs, labels in trainloader:\n",
    "#     if skip == 0:\n",
    "#         input_sample = inputs[3]\n",
    "#         label_sample = labels[3]\n",
    "#         break\n",
    "#     else:\n",
    "#         skip-=1\n",
    "# print(input_sample.shape)\n",
    "# input_sample = input_sample.T[0]\n",
    "# print(input_sample.shape)\n",
    "# plt.plot(input_sample)\n",
    "# print(input_sample)\n",
    "# print(label_sample)"
   ]
  },
  {
   "cell_type": "code",
   "execution_count": 5,
   "metadata": {},
   "outputs": [],
   "source": [
    "class EEGNet(nn.Module):\n",
    "    def __init__(self, \n",
    "        channels: int = 6,\n",
    "        sampling_rate: int = 250,\n",
    "        signal_length: int = 500,\n",
    "        dropout_rate: float = 0.5,\n",
    "        f1: int = 8,\n",
    "        D: int = 2,\n",
    "        f2:int = 16,\n",
    "        output_size: int = 1\n",
    "    ):\n",
    "        super(EEGNet, self).__init__()\n",
    "\n",
    "        kernel_size_1 = (1, round(sampling_rate/2))\n",
    "        kernel_size_2 = (channels, 1)\n",
    "        kernel_size_3 = (1, round(sampling_rate/8))\n",
    "        kernel_size_4 = (1, 1)\n",
    "\n",
    "        kernel_avg_pool_1 = (1, 4)\n",
    "        kernel_avg_poll_2 = (1, 8)\n",
    "        \n",
    "        kernel_padding_1 = \"same\"\n",
    "        kernel_padding_3 = \"same\"\n",
    "        \n",
    "        # block 1 layer 1\n",
    "        self.conv1 = nn.Conv2d(1, f1, kernel_size_1, padding=kernel_padding_1)\n",
    "        self.bn1 = nn.BatchNorm2d(f1)\n",
    "\n",
    "        # block 1 layer 2\n",
    "        self.depth_wise_con1 = nn.Conv2d(f1, f1 * D, kernel_size_2, groups=1)\n",
    "        self.bn2 = nn.BatchNorm2d(f1 * D)\n",
    "        self.act1 = nn.ELU()\n",
    "        self.avg_pool1 = nn.AvgPool2d(kernel_avg_pool_1)\n",
    "        self.dropout1 = nn.Dropout2d(dropout_rate)\n",
    "\n",
    "        # block 2 layer 1\n",
    "        self.separable_conv1_depth = nn.Conv2d(f1 * D, f1 * D, kernel_size_3,\n",
    "                                               padding=kernel_padding_3, groups=f1*D)\n",
    "        self.separable_conv1_point = nn.Conv2d(f1 * D, f2, kernel_size_4)\n",
    "        self.bn3 = nn.BatchNorm2d(f2)\n",
    "        self.act2 = nn.ELU()\n",
    "        self.avg_pool2 = nn.AvgPool2d(kernel_avg_poll_2)\n",
    "\n",
    "        # block 2 layer 2\n",
    "        self.flatten = nn.Flatten()\n",
    "        out_size = f2 * signal_length #// 4 # 8k\n",
    "        # self.fc = nn.Sequential(\n",
    "        #     nn.Linear(out_size, 1024), # 2k\n",
    "        #     nn.LeakyReLU(0.25),\n",
    "        #     nn.Linear(1024, 256), # 500\n",
    "        #     nn.LeakyReLU(0.25),\n",
    "        #     nn.Linear(256, 64), # 125\n",
    "        #     nn.LeakyReLU(0.25),\n",
    "        #     nn.Linear(64, output_size) # 2\n",
    "        # )\n",
    "        self.fc = nn.Linear(out_size, output_size)\n",
    "        self.softmax = nn.Softmax(dim = 1)\n",
    "\n",
    "    def forward(self, x: torch.Tensor):\n",
    "        x = self.bn1(self.conv1(x))\n",
    "\n",
    "        x = self.bn2(self.depth_wise_con1(x))\n",
    "        x = self.act1(x)\n",
    "        x = self.dropout1(self.avg_pool1(x))\n",
    "\n",
    "        x = self.separable_conv1_depth(x)\n",
    "        x = self.bn3(self.separable_conv1_point(x))\n",
    "        x = self.act2(x)\n",
    "\n",
    "        x = self.flatten(x)\n",
    "        x = self.fc(x)\n",
    "        # x = self.softmax(x)\n",
    "        return x"
   ]
  },
  {
   "cell_type": "code",
   "execution_count": 6,
   "metadata": {},
   "outputs": [],
   "source": [
    "def train(model : nn.Module, dataloader : DataLoader, lossf : callable, optimizer : torch.optim.Optimizer):\n",
    "    model.train()\n",
    "    epoch_loss = 0\n",
    "    count = 0\n",
    "    for inputs, labels in dataloader:\n",
    "        optimizer.zero_grad()\n",
    "        inputs : torch.Tensor = inputs.permute(0,2,1).unsqueeze(1)\n",
    "        # print(inputs.max(), inputs.min())\n",
    "        inputs = torch.nan_to_num(inputs.float(), 0).to(device)\n",
    "        labels : torch.Tensor = labels.to(device)\n",
    "        # with torch.autocast(device_type=device, dtype=torch.bfloat16):\n",
    "        outputs : torch.Tensor = model(inputs)\n",
    "        # print(inputs.shape, outputs.shape, labels.shape)\n",
    "        loss: torch.Tensor= lossf(outputs, labels)\n",
    "        loss.backward()\n",
    "        nn.utils.clip_grad_norm_(model.parameters(), 1)\n",
    "        optimizer.step()\n",
    "        epoch_loss += loss.item()\n",
    "        count += 1\n",
    "    return epoch_loss/count\n",
    "def test(model : nn.Module, dataloader : DataLoader, lossf : callable, ntag: int ):\n",
    "    model.eval()\n",
    "    epoch_loss = 0\n",
    "    correct = 0\n",
    "    count = 0\n",
    "    total = 0\n",
    "    precision_metric = MulticlassPrecision(num_classes=ntag, average='macro').to(device)\n",
    "    recall_metric = MulticlassRecall(num_classes=ntag, average='macro').to(device)\n",
    "    f1_metric = MulticlassF1Score(num_classes=ntag, average='macro').to(device)\n",
    "    for inputs, labels in dataloader:\n",
    "        inputs : torch.Tensor = inputs.permute(0,2,1).unsqueeze(1)\n",
    "        # [bsz, samples, channels] -> [bsz, channels, samples] -> [bsz, 1, channels, sample] , 1 is kernels\n",
    "        inputs = torch.nan_to_num(inputs.float(), 0).to(device)\n",
    "        labels : torch.Tensor = labels.to(device)\n",
    "        # with torch.autocast(device_type=device, dtype=torch.bfloat16):\n",
    "        outputs : torch.Tensor = model(inputs)\n",
    "        loss: torch.Tensor= lossf(outputs, labels)\n",
    "        epoch_loss += loss.item()\n",
    "        predictions = torch.argmax(outputs, dim=-1)\n",
    "        correct += (predictions == labels).sum().item()\n",
    "        count += 1\n",
    "        total += labels.size(0)\n",
    "        precision_metric.update(predictions, labels)\n",
    "        recall_metric.update(predictions, labels)\n",
    "        f1_metric.update(predictions, labels)\n",
    "    precision = precision_metric.compute().item()\n",
    "    recall = recall_metric.compute().item()\n",
    "    f1_score = recall_metric.compute().item()\n",
    "    return epoch_loss/count, correct / total , precision, recall, f1_score\n"
   ]
  },
  {
   "cell_type": "code",
   "execution_count": 7,
   "metadata": {},
   "outputs": [],
   "source": [
    "def train_eval(trainloader : DataLoader, testloader : DataLoader, model : nn.Module, num_epochs : int,lr : float, gamma : float = 1, log_step : int = 5, warmup_step : int = 0, warmup_lr : float = 0.1, ntags: int =0):\n",
    "    train_loader = trainloader\n",
    "    test_loader = testloader\n",
    "    lossf = nn.CrossEntropyLoss()\n",
    "    test_lossf = nn.CrossEntropyLoss()\n",
    "    optimizer = torch.optim.Adam(model.parameters(),lr=warmup_lr)\n",
    "    scheduler = torch.optim.lr_scheduler.ExponentialLR(optimizer, gamma)\n",
    "    model.to(device)\n",
    "    print(\"Start train\")\n",
    "    train_losses = []\n",
    "    test_losses = []\n",
    "    test_accuracies = []\n",
    "    test_precisions = []\n",
    "    test_recalls = []\n",
    "    test_f1s = []\n",
    "    for epoch in tqdm.trange(num_epochs):\n",
    "        if (epoch == warmup_step):\n",
    "            for param_group in optimizer.param_groups:\n",
    "                param_group['lr'] = lr\n",
    "        train_losses.append(train(model, train_loader, lossf, optimizer))\n",
    "        test_loss, test_accuracy, test_precision, test_recall, test_f1 = test(model, test_loader, test_lossf, ntags)\n",
    "        test_losses.append(test_loss)\n",
    "        test_accuracies.append(test_accuracy)\n",
    "        test_precisions.append(test_precision)\n",
    "        test_recalls.append(test_recall)\n",
    "        test_f1s.append(test_f1)\n",
    "        if (epoch >= warmup_step) : scheduler.step()\n",
    "        if ((epoch + 1) % log_step == 0):\n",
    "            log_str = f\"Train loss : {train_losses[-1]:.4f}\"\n",
    "            log_str += f\" Test loss : {test_losses[-1]:.4f}\"\n",
    "            log_str += f\" Accuracy : {test_accuracies[-1]:.4f}\"\n",
    "            log_str += f\" Precision : {test_precisions[-1]:.4f}\"\n",
    "            log_str += f\" Recall : {test_recalls[-1]:.4f}\"\n",
    "            log_str += f\" F1 : {test_f1s[-1]:.7f}\"\n",
    "            log_str += f\" Lr: {scheduler.get_last_lr()[0]:.4f}\"\n",
    "            print(log_str)\n",
    "    plt.figure(figsize=(10,3))\n",
    "    plt.plot(train_losses, label = \"Train loss\", color = \"blue\")\n",
    "    plt.plot(test_losses, label = \"Test loss\", color = \"red\")\n",
    "    plt.legend()\n",
    "    plt.figure(figsize=(10,3))\n",
    "    plt.plot(test_accuracies, label= \"Test accuracy\", color = \"blue\")\n",
    "    plt.plot(test_precisions, label= \"Test precisions\", color = \"green\")\n",
    "    plt.plot(test_recalls, label = \"Test recall\", color=\"yellow\")\n",
    "    plt.plot(test_f1s, label = \"Test f1\", color=\"red\")\n",
    "    plt\n",
    "    plt.legend()\n",
    "    print(\"Complete\")"
   ]
  },
  {
   "cell_type": "code",
   "execution_count": 8,
   "metadata": {},
   "outputs": [
    {
     "name": "stdout",
     "output_type": "stream",
     "text": [
      "Train batchs:  146\n",
      "Test batchs:  17\n",
      "12046660 11068 1088.4225\n"
     ]
    }
   ],
   "source": [
    "trainloader, testloader, (total_length, total_count) = Util.get_data_loader(SELECT_FEATURES, \"BCICIV_2a_gdf\", n_workers=0, bsz=BATCH_SIZE,shuffle=True, item_length=SIGNAL_LENGTH)\n",
    "print(\"Train batchs: \",len(trainloader))\n",
    "print(\"Test batchs: \",len(testloader))\n",
    "print(total_length, total_count , f\"{total_length/total_count:.4f}\")"
   ]
  },
  {
   "cell_type": "code",
   "execution_count": 9,
   "metadata": {},
   "outputs": [],
   "source": [
    "model = EEGNet(\n",
    "    channels=22,\n",
    "    sampling_rate=250,\n",
    "    signal_length=SIGNAL_LENGTH,\n",
    "    output_size=OUTPUT_SIZE,\n",
    "    f1=8,\n",
    "    D=2,\n",
    "    f2=16,\n",
    "    dropout_rate=0.5\n",
    ")"
   ]
  },
  {
   "cell_type": "code",
   "execution_count": 10,
   "metadata": {},
   "outputs": [],
   "source": [
    "# Log\n",
    "# Simple : Only class data\n",
    "# 1e-3 , 20 p"
   ]
  },
  {
   "cell_type": "code",
   "execution_count": 11,
   "metadata": {},
   "outputs": [
    {
     "name": "stdout",
     "output_type": "stream",
     "text": [
      "Start train\n"
     ]
    },
    {
     "name": "stderr",
     "output_type": "stream",
     "text": [
      "  3%|▎         | 1/30 [00:02<01:18,  2.70s/it]"
     ]
    },
    {
     "name": "stdout",
     "output_type": "stream",
     "text": [
      "Train loss : 1.5084 Test loss : 1.4574 Accuracy : 0.2500 Precision : 0.2623 Recall : 0.2428 F1 : 0.2428005 Lr: 0.0001\n"
     ]
    },
    {
     "name": "stderr",
     "output_type": "stream",
     "text": [
      "  7%|▋         | 2/30 [00:04<01:06,  2.39s/it]"
     ]
    },
    {
     "name": "stdout",
     "output_type": "stream",
     "text": [
      "Train loss : 1.3297 Test loss : 1.4606 Accuracy : 0.3038 Precision : 0.2802 Recall : 0.3178 F1 : 0.3178092 Lr: 0.0001\n"
     ]
    },
    {
     "name": "stderr",
     "output_type": "stream",
     "text": [
      " 10%|█         | 3/30 [00:07<01:01,  2.29s/it]"
     ]
    },
    {
     "name": "stdout",
     "output_type": "stream",
     "text": [
      "Train loss : 1.1878 Test loss : 1.5084 Accuracy : 0.2846 Precision : 0.2927 Recall : 0.2909 F1 : 0.2908579 Lr: 0.0001\n"
     ]
    },
    {
     "name": "stderr",
     "output_type": "stream",
     "text": [
      " 13%|█▎        | 4/30 [00:09<00:58,  2.23s/it]"
     ]
    },
    {
     "name": "stdout",
     "output_type": "stream",
     "text": [
      "Train loss : 1.0895 Test loss : 1.5050 Accuracy : 0.2769 Precision : 0.2819 Recall : 0.2798 F1 : 0.2797962 Lr: 0.0001\n"
     ]
    },
    {
     "name": "stderr",
     "output_type": "stream",
     "text": [
      " 17%|█▋        | 5/30 [00:11<00:55,  2.20s/it]"
     ]
    },
    {
     "name": "stdout",
     "output_type": "stream",
     "text": [
      "Train loss : 0.9901 Test loss : 1.5217 Accuracy : 0.3038 Precision : 0.3212 Recall : 0.3154 F1 : 0.3154292 Lr: 0.0001\n"
     ]
    },
    {
     "name": "stderr",
     "output_type": "stream",
     "text": [
      " 20%|██        | 6/30 [00:13<00:52,  2.19s/it]"
     ]
    },
    {
     "name": "stdout",
     "output_type": "stream",
     "text": [
      "Train loss : 0.9428 Test loss : 1.5564 Accuracy : 0.2885 Precision : 0.2917 Recall : 0.2872 F1 : 0.2872061 Lr: 0.0001\n"
     ]
    },
    {
     "name": "stderr",
     "output_type": "stream",
     "text": [
      " 23%|██▎       | 7/30 [00:15<00:50,  2.18s/it]"
     ]
    },
    {
     "name": "stdout",
     "output_type": "stream",
     "text": [
      "Train loss : 0.8472 Test loss : 1.6201 Accuracy : 0.3154 Precision : 0.3178 Recall : 0.3230 F1 : 0.3230186 Lr: 0.0001\n"
     ]
    },
    {
     "name": "stderr",
     "output_type": "stream",
     "text": [
      " 27%|██▋       | 8/30 [00:17<00:47,  2.18s/it]"
     ]
    },
    {
     "name": "stdout",
     "output_type": "stream",
     "text": [
      "Train loss : 0.7730 Test loss : 1.6071 Accuracy : 0.3000 Precision : 0.3114 Recall : 0.3087 F1 : 0.3086762 Lr: 0.0001\n"
     ]
    },
    {
     "name": "stderr",
     "output_type": "stream",
     "text": [
      " 30%|███       | 9/30 [00:19<00:45,  2.17s/it]"
     ]
    },
    {
     "name": "stdout",
     "output_type": "stream",
     "text": [
      "Train loss : 0.7202 Test loss : 1.6193 Accuracy : 0.2846 Precision : 0.2865 Recall : 0.2927 F1 : 0.2927288 Lr: 0.0001\n"
     ]
    },
    {
     "name": "stderr",
     "output_type": "stream",
     "text": [
      " 33%|███▎      | 10/30 [00:22<00:43,  2.17s/it]"
     ]
    },
    {
     "name": "stdout",
     "output_type": "stream",
     "text": [
      "Train loss : 0.6750 Test loss : 1.6327 Accuracy : 0.3462 Precision : 0.3543 Recall : 0.3539 F1 : 0.3539120 Lr: 0.0001\n"
     ]
    },
    {
     "name": "stderr",
     "output_type": "stream",
     "text": [
      " 37%|███▋      | 11/30 [00:24<00:41,  2.17s/it]"
     ]
    },
    {
     "name": "stdout",
     "output_type": "stream",
     "text": [
      "Train loss : 0.5942 Test loss : 1.7098 Accuracy : 0.3115 Precision : 0.3150 Recall : 0.3183 F1 : 0.3183092 Lr: 0.0001\n"
     ]
    },
    {
     "name": "stderr",
     "output_type": "stream",
     "text": [
      " 40%|████      | 12/30 [00:26<00:38,  2.17s/it]"
     ]
    },
    {
     "name": "stdout",
     "output_type": "stream",
     "text": [
      "Train loss : 0.5636 Test loss : 1.7582 Accuracy : 0.3038 Precision : 0.3051 Recall : 0.3072 F1 : 0.3072250 Lr: 0.0001\n"
     ]
    },
    {
     "name": "stderr",
     "output_type": "stream",
     "text": [
      " 43%|████▎     | 13/30 [00:28<00:36,  2.17s/it]"
     ]
    },
    {
     "name": "stdout",
     "output_type": "stream",
     "text": [
      "Train loss : 0.5231 Test loss : 1.7838 Accuracy : 0.3077 Precision : 0.3145 Recall : 0.3087 F1 : 0.3087325 Lr: 0.0001\n"
     ]
    },
    {
     "name": "stderr",
     "output_type": "stream",
     "text": [
      " 47%|████▋     | 14/30 [00:30<00:34,  2.17s/it]"
     ]
    },
    {
     "name": "stdout",
     "output_type": "stream",
     "text": [
      "Train loss : 0.4964 Test loss : 1.8428 Accuracy : 0.3269 Precision : 0.3324 Recall : 0.3303 F1 : 0.3303271 Lr: 0.0001\n"
     ]
    },
    {
     "name": "stderr",
     "output_type": "stream",
     "text": [
      " 50%|█████     | 15/30 [00:33<00:32,  2.17s/it]"
     ]
    },
    {
     "name": "stdout",
     "output_type": "stream",
     "text": [
      "Train loss : 0.4452 Test loss : 1.8550 Accuracy : 0.3077 Precision : 0.3122 Recall : 0.3117 F1 : 0.3117213 Lr: 0.0001\n"
     ]
    },
    {
     "name": "stderr",
     "output_type": "stream",
     "text": [
      " 53%|█████▎    | 16/30 [00:35<00:30,  2.18s/it]"
     ]
    },
    {
     "name": "stdout",
     "output_type": "stream",
     "text": [
      "Train loss : 0.4320 Test loss : 1.8094 Accuracy : 0.3077 Precision : 0.3035 Recall : 0.3091 F1 : 0.3090771 Lr: 0.0001\n"
     ]
    },
    {
     "name": "stderr",
     "output_type": "stream",
     "text": [
      " 57%|█████▋    | 17/30 [00:37<00:28,  2.19s/it]"
     ]
    },
    {
     "name": "stdout",
     "output_type": "stream",
     "text": [
      "Train loss : 0.3950 Test loss : 1.9177 Accuracy : 0.3038 Precision : 0.3026 Recall : 0.3098 F1 : 0.3098234 Lr: 0.0001\n"
     ]
    },
    {
     "name": "stderr",
     "output_type": "stream",
     "text": [
      " 60%|██████    | 18/30 [00:39<00:26,  2.20s/it]"
     ]
    },
    {
     "name": "stdout",
     "output_type": "stream",
     "text": [
      "Train loss : 0.3498 Test loss : 1.8672 Accuracy : 0.3000 Precision : 0.3045 Recall : 0.3034 F1 : 0.3034232 Lr: 0.0001\n"
     ]
    },
    {
     "name": "stderr",
     "output_type": "stream",
     "text": [
      " 63%|██████▎   | 19/30 [00:41<00:24,  2.19s/it]"
     ]
    },
    {
     "name": "stdout",
     "output_type": "stream",
     "text": [
      "Train loss : 0.3550 Test loss : 1.8921 Accuracy : 0.3192 Precision : 0.3307 Recall : 0.3265 F1 : 0.3264833 Lr: 0.0001\n"
     ]
    },
    {
     "name": "stderr",
     "output_type": "stream",
     "text": [
      " 67%|██████▋   | 20/30 [00:43<00:21,  2.18s/it]"
     ]
    },
    {
     "name": "stdout",
     "output_type": "stream",
     "text": [
      "Train loss : 0.3253 Test loss : 2.0653 Accuracy : 0.3000 Precision : 0.2985 Recall : 0.3078 F1 : 0.3077836 Lr: 0.0001\n"
     ]
    },
    {
     "name": "stderr",
     "output_type": "stream",
     "text": [
      " 70%|███████   | 21/30 [00:46<00:19,  2.18s/it]"
     ]
    },
    {
     "name": "stdout",
     "output_type": "stream",
     "text": [
      "Train loss : 0.3100 Test loss : 2.0065 Accuracy : 0.3077 Precision : 0.3126 Recall : 0.3118 F1 : 0.3118076 Lr: 0.0001\n"
     ]
    },
    {
     "name": "stderr",
     "output_type": "stream",
     "text": [
      " 73%|███████▎  | 22/30 [00:48<00:17,  2.18s/it]"
     ]
    },
    {
     "name": "stdout",
     "output_type": "stream",
     "text": [
      "Train loss : 0.2908 Test loss : 2.0988 Accuracy : 0.3462 Precision : 0.3488 Recall : 0.3544 F1 : 0.3543580 Lr: 0.0001\n"
     ]
    },
    {
     "name": "stderr",
     "output_type": "stream",
     "text": [
      " 77%|███████▋  | 23/30 [00:50<00:15,  2.17s/it]"
     ]
    },
    {
     "name": "stdout",
     "output_type": "stream",
     "text": [
      "Train loss : 0.2680 Test loss : 2.0818 Accuracy : 0.3308 Precision : 0.3379 Recall : 0.3355 F1 : 0.3354750 Lr: 0.0001\n"
     ]
    },
    {
     "name": "stderr",
     "output_type": "stream",
     "text": [
      " 80%|████████  | 24/30 [00:52<00:13,  2.17s/it]"
     ]
    },
    {
     "name": "stdout",
     "output_type": "stream",
     "text": [
      "Train loss : 0.2634 Test loss : 2.0682 Accuracy : 0.3154 Precision : 0.3125 Recall : 0.3237 F1 : 0.3236523 Lr: 0.0001\n"
     ]
    },
    {
     "name": "stderr",
     "output_type": "stream",
     "text": [
      " 83%|████████▎ | 25/30 [00:54<00:10,  2.17s/it]"
     ]
    },
    {
     "name": "stdout",
     "output_type": "stream",
     "text": [
      "Train loss : 0.2489 Test loss : 2.0913 Accuracy : 0.3077 Precision : 0.3081 Recall : 0.3083 F1 : 0.3083166 Lr: 0.0001\n"
     ]
    },
    {
     "name": "stderr",
     "output_type": "stream",
     "text": [
      " 87%|████████▋ | 26/30 [00:56<00:08,  2.18s/it]"
     ]
    },
    {
     "name": "stdout",
     "output_type": "stream",
     "text": [
      "Train loss : 0.2289 Test loss : 2.1421 Accuracy : 0.3077 Precision : 0.3082 Recall : 0.3117 F1 : 0.3117213 Lr: 0.0001\n"
     ]
    },
    {
     "name": "stderr",
     "output_type": "stream",
     "text": [
      " 90%|█████████ | 27/30 [00:59<00:06,  2.18s/it]"
     ]
    },
    {
     "name": "stdout",
     "output_type": "stream",
     "text": [
      "Train loss : 0.2357 Test loss : 2.1854 Accuracy : 0.3192 Precision : 0.3165 Recall : 0.3223 F1 : 0.3222873 Lr: 0.0001\n"
     ]
    },
    {
     "name": "stderr",
     "output_type": "stream",
     "text": [
      " 93%|█████████▎| 28/30 [01:01<00:04,  2.18s/it]"
     ]
    },
    {
     "name": "stdout",
     "output_type": "stream",
     "text": [
      "Train loss : 0.2082 Test loss : 2.1323 Accuracy : 0.3115 Precision : 0.3132 Recall : 0.3170 F1 : 0.3169630 Lr: 0.0001\n"
     ]
    },
    {
     "name": "stderr",
     "output_type": "stream",
     "text": [
      " 97%|█████████▋| 29/30 [01:03<00:02,  2.18s/it]"
     ]
    },
    {
     "name": "stdout",
     "output_type": "stream",
     "text": [
      "Train loss : 0.2085 Test loss : 2.2902 Accuracy : 0.3077 Precision : 0.3119 Recall : 0.3111 F1 : 0.3110951 Lr: 0.0001\n"
     ]
    },
    {
     "name": "stderr",
     "output_type": "stream",
     "text": [
      "100%|██████████| 30/30 [01:05<00:00,  2.19s/it]"
     ]
    },
    {
     "name": "stdout",
     "output_type": "stream",
     "text": [
      "Train loss : 0.1978 Test loss : 2.2640 Accuracy : 0.3077 Precision : 0.3054 Recall : 0.3123 F1 : 0.3122536 Lr: 0.0001\n",
      "Complete\n"
     ]
    },
    {
     "name": "stderr",
     "output_type": "stream",
     "text": [
      "\n"
     ]
    },
    {
     "data": {
      "image/png": "[encoded data removed]",
      "text/plain": [
       "<Figure size 1000x300 with 1 Axes>"
      ]
     },
     "metadata": {},
     "output_type": "display_data"
    },
    {
     "data": {
      "image/png": "[encoded data removed]",
      "text/plain": [
       "<Figure size 1000x300 with 1 Axes>"
      ]
     },
     "metadata": {},
     "output_type": "display_data"
    }
   ],
   "source": [
    "train_eval(\n",
    "    trainloader=trainloader,\n",
    "    testloader=testloader,\n",
    "    model=model,\n",
    "    num_epochs=30,\n",
    "    lr=1e-4,\n",
    "    gamma=0.98,\n",
    "    log_step=1,\n",
    "    warmup_step=0,\n",
    "    warmup_lr=1e-2,\n",
    "    ntags=OUTPUT_SIZE\n",
    ")"
   ]
  }
 ],
 "metadata": {
  "kernelspec": {
   "display_name": "data",
   "language": "python",
   "name": "python3"
  },
  "language_info": {
   "codemirror_mode": {
    "name": "ipython",
    "version": 3
   },
   "file_extension": ".py",
   "mimetype": "text/x-python",
   "name": "python",
   "nbconvert_exporter": "python",
   "pygments_lexer": "ipython3",
   "version": "3.12.4"
  }
 },
 "nbformat": 4,
 "nbformat_minor": 2
}
